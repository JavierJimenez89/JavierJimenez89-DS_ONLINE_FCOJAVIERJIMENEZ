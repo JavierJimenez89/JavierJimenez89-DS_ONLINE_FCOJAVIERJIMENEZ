{
 "cells": [
  {
   "cell_type": "markdown",
   "id": "1f1401c1-4dc9-4902-95bf-160715a42a25",
   "metadata": {},
   "source": [
    "# Prueba de Ramp-up"
   ]
  },
  {
   "cell_type": "markdown",
   "id": "1b34c670-a6dd-482d-9b04-5babee7be17a",
   "metadata": {},
   "source": [
    "Antes de comenzar, cambia el nombre del archivo notebook poniéndole delante tu nombre y primer apellido:\n",
    "\n",
    "* ``<Fco_Javier_Jimenez>_examen_online.ipynb``"
   ]
  },
  {
   "cell_type": "code",
   "execution_count": 1,
   "id": "c8d9a657-272c-425a-9ac4-ea59f479673c",
   "metadata": {},
   "outputs": [],
   "source": [
    "# Escribe tu nombre en la variable:\n",
    "nombre_y_apellidos = \"Fco Javier Jimenez\"\n"
   ]
  },
  {
   "cell_type": "code",
   "execution_count": 2,
   "id": "2e9f9af5-076c-44ec-9a80-95c0e99cdc58",
   "metadata": {},
   "outputs": [],
   "source": [
    "\"\"\"\n",
    "Criterios de corrección:\n",
    "\n",
    "ejecución (ausencia de errores y obtención de resultados)\n",
    "estructura del código\n",
    "uso correcto de variables\n",
    "manejo de tipo de variables\n",
    "asignaciones\n",
    "operaciones booleanas\n",
    "manejo lógico de flujos de control y bucles\n",
    "uso de colecciones\n",
    "uso de funciones\n",
    "\"\"\";\n",
    "\n",
    "# Ejemplo de como queremos ver el código para más de un intento:\n",
    "\n",
    "# intento 1\n",
    "#your code\n",
    "\n",
    "# intento 2\n",
    "#your code"
   ]
  },
  {
   "cell_type": "code",
   "execution_count": 3,
   "id": "bb16d0e3-3bb9-4f2b-944e-8fc35e628701",
   "metadata": {},
   "outputs": [],
   "source": [
    "# crea todas las celdas que necesites"
   ]
  },
  {
   "cell_type": "markdown",
   "id": "9e02b8f5-6f66-4e73-acfa-7f8c3977de2a",
   "metadata": {},
   "source": [
    "#### Notas y pruebas de apoyo para contestar las preguntas\n",
    "\n",
    "\n",
    "Cualquier código aunque no esté correcto nos dirá más de ti que no escribir nada. "
   ]
  },
  {
   "cell_type": "markdown",
   "id": "57d6b062-27f8-4377-b583-d662777b0bd7",
   "metadata": {},
   "source": [
    "__Debes subir este notebook a tu REPO PERSONAL__\n",
    "\n",
    "__Hora: hasta las 13:30 del 06/11/2024__"
   ]
  },
  {
   "cell_type": "markdown",
   "id": "062d81e8",
   "metadata": {},
   "source": [
    "#### Ejercicio 1\n",
    "\n",
    "Disponemos de una lista con información sobre varios empleados:\n",
    "\n",
    "    empleados = \n",
    "    [[12345, \"Juan Rodríguez\", 53, [\"Director financiero\"], 2],[56789, \"Laura Pérez\", 41, [\"CEO\", \"Director\", \"Gerente\"], 2],[88354, \"Pedro Álvarez\", 26, [\"Asistente\",\"Gestor comercial\"], 3]]\n",
    "\n",
    "Respecto de cada empleado, la lista contiene cinco elementos: en el primero almacenamos su tfno, en el segundo su nombre, en el tercero su edad, en el cuarto los puestos que ha desempeñado en la empresa (en forma de lista) y en el quinto su código postal.\n",
    "\n",
    "1. Siguiendo la misma estructura, incluye un nuevo empleado en la última posición de la lista empleados.\n",
    "\n",
    "2. Mostrar por pantalla, sin uso de funciones (salvo print) ni bucles: \n",
    "\n",
    "    - El nombre y la edad del tercer empleado de la lista empleados.\n",
    "    - Los puestos desempeñados por Pedro Álvarez, ordenados de atras a adelante (es decir, de Gestor comercial a Asistente)\n",
    "    - Si el nuevo empleado que has añadido tiene más o igual a 60 años, muestra por pantalla los puestos que el nuevo empleado haya desempeñado en la empresa. En caso contrario, muestra los puestos desempeñados por Laura Pérez y Juan Rodriguez."
   ]
  },
  {
   "cell_type": "code",
   "execution_count": 4,
   "id": "ae316b4b",
   "metadata": {},
   "outputs": [
    {
     "name": "stdout",
     "output_type": "stream",
     "text": [
      "Pedro Álvarez 26\n",
      "['Gestor comercial', 'Asistente']\n",
      "['Contable', 'Gerente de Recursos Humanos']\n"
     ]
    }
   ],
   "source": [
    "# Lista inicial de empleados\n",
    "empleados = [\n",
    "    [12345, \"Juan Rodríguez\", 53, [\"Director financiero\"], 2],\n",
    "    [56789, \"Laura Pérez\", 41, [\"CEO\", \"Director\", \"Gerente\"], 2],\n",
    "    [88354, \"Pedro Álvarez\", 26, [\"Asistente\", \"Gestor comercial\"], 3]\n",
    "]\n",
    "\n",
    "# 1. Añadir un nuevo empleado a la lista\n",
    "nuevo_empleado = [67890, \"Ana Martínez\", 62, [\"Contable\", \"Gerente de Recursos Humanos\"], 5]\n",
    "empleados.append(nuevo_empleado)\n",
    "\n",
    "# 2. Mostrar por pantalla\n",
    "\n",
    "# a. El nombre y la edad del tercer empleado de la lista empleados.\n",
    "print(empleados[2][1], empleados[2][2])\n",
    "\n",
    "# b. Los puestos desempeñados por Pedro Álvarez, ordenados de atrás hacia adelante.\n",
    "print(empleados[2][3][::-1])\n",
    "\n",
    "# c. Condición de edad del nuevo empleado añadido\n",
    "if empleados[-1][2] >= 60:\n",
    "    print(empleados[-1][3])\n",
    "else:\n",
    "    print(empleados[0][3] + empleados[1][3])\n"
   ]
  },
  {
   "cell_type": "markdown",
   "id": "4da89624-0da3-4f91-aa5c-a084c5ee1b17",
   "metadata": {},
   "source": [
    "#### Ejercicio 2. \n",
    "\n",
    "Escribe un programa que te diga si una letra es una consonante o una vocal. Crea tu propia **FUNCIÓN**\n"
   ]
  },
  {
   "cell_type": "code",
   "execution_count": 5,
   "id": "c58bf610-92de-4a5a-a00d-652279ea33dd",
   "metadata": {},
   "outputs": [
    {
     "name": "stdout",
     "output_type": "stream",
     "text": [
      "a es una vocal.\n",
      "b es una consonante.\n",
      "1 no es una letra.\n",
      "@ no es una letra.\n"
     ]
    }
   ],
   "source": [
    "def es_vocal_o_consonante(letra):\n",
    "    # Definir vocales\n",
    "    vocales = \"aeiouAEIOU\"\n",
    "    \n",
    "    # Comprobar si la letra es una vocal\n",
    "    if letra in vocales:\n",
    "        return f\"{letra} es una vocal.\"\n",
    "    # Comprobar si la letra es una consonante\n",
    "    elif letra.isalpha():\n",
    "        return f\"{letra} es una consonante.\"\n",
    "    # Manejar el caso en que no es una letra\n",
    "    else:\n",
    "        return f\"{letra} no es una letra.\"\n",
    "\n",
    "# Probar la función con ejemplos\n",
    "print(es_vocal_o_consonante('a'))\n",
    "print(es_vocal_o_consonante('b'))\n",
    "print(es_vocal_o_consonante('1'))\n",
    "print(es_vocal_o_consonante('@'))\n"
   ]
  },
  {
   "cell_type": "markdown",
   "id": "52065a6c-3d4c-44c0-a10b-958506c481b3",
   "metadata": {},
   "source": [
    "#### Ejercicio 3. \n",
    "\n",
    "Escribe un programa que calcule la edad humana de un perro.\n",
    "Tienes que pedirle al usuario la edad del perro en años.\n",
    "Si el usuario introduce un número negativo, imprime que la cifra facilitada no tiene sentido. Si el perro tiene un año, son 14 años humanos. Si tiene 2 años, son 22 años humanos.\n",
    "A partir de los 2 años, el cálculo es el siguiente: a la edad del perro se le restan 2 años, el resultado se multiplica por 5 y, finalmente, se le suma 22.\n",
    "Usa una función sin argumentos de entrada ni de salida (muestra toda la información con print())"
   ]
  },
  {
   "cell_type": "code",
   "execution_count": 7,
   "id": "9c59c801-1fe1-4a6d-a000-f85ca738ed00",
   "metadata": {},
   "outputs": [
    {
     "name": "stdout",
     "output_type": "stream",
     "text": [
      "La edad humana del perro es 42 años.\n"
     ]
    }
   ],
   "source": [
    "def calcular_edad_humana_perro():\n",
    "    # Pedir la edad del perro al usuario\n",
    "    edad_perro = int(input(\"Introduce la edad del perro en años: \"))\n",
    "    \n",
    "    # Comprobar si la cifra es negativa\n",
    "    if edad_perro < 0:\n",
    "        print(\"La cifra facilitada no tiene sentido.\")\n",
    "    elif edad_perro == 1:\n",
    "        # Si el perro tiene un año\n",
    "        print(\"La edad humana del perro es 14 años.\")\n",
    "    elif edad_perro == 2:\n",
    "        # Si el perro tiene dos años\n",
    "        print(\"La edad humana del perro es 22 años.\")\n",
    "    else:\n",
    "        # Para edades mayores de 2 años\n",
    "        edad_humana = 22 + (edad_perro - 2) * 5\n",
    "        print(f\"La edad humana del perro es {edad_humana} años.\")\n",
    "\n",
    "# Llamar a la función\n",
    "calcular_edad_humana_perro()\n"
   ]
  },
  {
   "cell_type": "markdown",
   "id": "2991309f-4208-431a-900c-d9bc734bb936",
   "metadata": {},
   "source": [
    "#### Ejercicio 4. \n",
    "\n",
    "Escribe un programa que te diga si una frase es un pangrama. Un pangrama es una frase que contiene todas las letras del alfabeto.\n",
    "Puedes tener espacios en blanco, pero NO  tendrás signos de puntuación, a excepción de las tildes.\n",
    "\n",
    "Ejemplo de pangrama:\n",
    "\n",
    "Extraño pan de col y kiwi se quemó bajo fugaz vaho "
   ]
  },
  {
   "cell_type": "code",
   "execution_count": 8,
   "id": "9a349c1e-15ab-4253-97f8-2a07a263791d",
   "metadata": {},
   "outputs": [
    {
     "name": "stdout",
     "output_type": "stream",
     "text": [
      "La frase no es un pangrama.\n"
     ]
    }
   ],
   "source": [
    "def es_pangrama(frase):\n",
    "    # Definir el alfabeto español incluyendo letras con tildes\n",
    "    alfabeto = \"aábcdeéfghiíjklmnñoópqrstuúüvwxyz\"\n",
    "    \n",
    "    # Convertir la frase a minúsculas para asegurar que la comparación no sea sensible a mayúsculas\n",
    "    frase = frase.lower()\n",
    "    \n",
    "    # Crear un conjunto de las letras presentes en la frase\n",
    "    letras_presentes = set(frase)\n",
    "    \n",
    "    # Verificar si todas las letras del alfabeto están presentes en la frase\n",
    "    for letra in alfabeto:\n",
    "        if letra not in letras_presentes:\n",
    "            return False\n",
    "    return True\n",
    "\n",
    "# Probar la función con un ejemplo de pangrama\n",
    "frase = \"Extraño pan de col y kiwi se quemó bajo fugaz vaho\"\n",
    "if es_pangrama(frase):\n",
    "    print(\"La frase es un pangrama.\")\n",
    "else:\n",
    "    print(\"La frase no es un pangrama.\")\n"
   ]
  },
  {
   "cell_type": "markdown",
   "id": "3dbb76e0-79b2-45e8-9034-58ee9cbd82bb",
   "metadata": {},
   "source": [
    "#### Ejercicio 5. \n",
    "\n",
    "Escribe un programa que use diccionarios para traducir palabras entre varios idiomas.\n",
    "Deberás pedirle al usuario una palabra por teclado, ver si está en tu diccionario. En caso de que esté, deberás mostrar la traducción de esa palabra.\n",
    "\n",
    "Ejemplo de diccionario:\n",
    "\n",
    "```python\n",
    "{\"file\": \"Fichier\", \"new\": \"Nouveau\", \"open\": \"Ouvrir\", \"save\": \"Enregistrer\", \"save as\": \"Enregistrer sous\", \"print preview\": \"Apercu avant impressioner\", \"print\": \"Imprimer\", \"close\": \"Fermer\", \"exit\": \"Quitter\"}\n"
   ]
  },
  {
   "cell_type": "code",
   "execution_count": 9,
   "id": "88236123-e8ac-45da-87d0-134a88a690c1",
   "metadata": {},
   "outputs": [
    {
     "name": "stdout",
     "output_type": "stream",
     "text": [
      "La traducción de 'exit' es 'Salida'.\n"
     ]
    },
    {
     "data": {
      "text/plain": [
       "5"
      ]
     },
     "execution_count": 9,
     "metadata": {},
     "output_type": "execute_result"
    }
   ],
   "source": [
    "def traducir_palabra():\n",
    "    # Diccionario de ejemplo (Inglés a Francés)\n",
    "    diccionario = {\n",
    "        \"file\": \"Archivo\",\n",
    "        \"new\": \"Nuevo\",\n",
    "        \"open\": \"Abrir\",\n",
    "        \"save\": \"Tú mismo\",\n",
    "        \"save as\": \"Guardar como \",\n",
    "        \"print preview\": \"Vista previa de impresión\",\n",
    "        \"print\": \"Imprimir\",\n",
    "        \"close\": \"Cerrado\",\n",
    "        \"exit\": \"Salida\"\n",
    "    }\n",
    "\n",
    "    # Pedir una palabra al usuario\n",
    "    palabra = input(\"Introduce una palabra en inglés: \").strip().lower()\n",
    "\n",
    "    # Verificar si la palabra está en el diccionario y mostrar la traducción\n",
    "    if palabra in diccionario:\n",
    "        print(f\"La traducción de '{palabra}' es '{diccionario[palabra]}'.\")\n",
    "    else:\n",
    "        print(f\"La palabra '{palabra}' no está en el diccionario.\")\n",
    "\n",
    "# Llamar a la función\n",
    "traducir_palabra()\n",
    "5"
   ]
  },
  {
   "cell_type": "markdown",
   "id": "61967ca4-7e06-44b3-ad7b-adbc0e71671a",
   "metadata": {},
   "source": [
    "#### Ejercicio 6. (Bonus).\n",
    "\n",
    "Usando `OOP` modela un theremin (es un instrumento musical que se toca modificando el campo electromagnético, por si tenías curiosidad).\n",
    "Tendrá de atributos la marca, el modelo, el peso, la potencia y la batería.\n",
    "\n",
    "Todos los instrumentos se crean con un peso predeterminado de 500, una potencia de 50 y una batería de 200.\n",
    "\n",
    "Cuando se recarga la batería vale 200.\n",
    "\n",
    "Cuando se toca, se muestra por pantalla que está sonando y la batería disminuye 10 (no siendo nunca negativo).\n",
    "Si no hay batería, no puede sonar. Crea un instrumento, tócalo mientras quede batería, cárgalo y no lo vuelvas a tocar.\n"
   ]
  },
  {
   "cell_type": "code",
   "execution_count": 11,
   "id": "8082c8cd-03a9-478e-aa72-4ec1306e1bb2",
   "metadata": {},
   "outputs": [
    {
     "name": "stdout",
     "output_type": "stream",
     "text": [
      "El theremin está sonando...\n",
      "Batería restante: 190.\n",
      "El theremin está sonando...\n",
      "Batería restante: 180.\n",
      "El theremin está sonando...\n",
      "Batería restante: 170.\n",
      "El theremin está sonando...\n",
      "Batería restante: 160.\n",
      "El theremin está sonando...\n",
      "Batería restante: 150.\n",
      "El theremin está sonando...\n",
      "Batería restante: 140.\n",
      "El theremin está sonando...\n",
      "Batería restante: 130.\n",
      "El theremin está sonando...\n",
      "Batería restante: 120.\n",
      "El theremin está sonando...\n",
      "Batería restante: 110.\n",
      "El theremin está sonando...\n",
      "Batería restante: 100.\n",
      "El theremin está sonando...\n",
      "Batería restante: 90.\n",
      "El theremin está sonando...\n",
      "Batería restante: 80.\n",
      "El theremin está sonando...\n",
      "Batería restante: 70.\n",
      "El theremin está sonando...\n",
      "Batería restante: 60.\n",
      "El theremin está sonando...\n",
      "Batería restante: 50.\n",
      "El theremin está sonando...\n",
      "Batería restante: 40.\n",
      "El theremin está sonando...\n",
      "Batería restante: 30.\n",
      "El theremin está sonando...\n",
      "Batería restante: 20.\n",
      "El theremin está sonando...\n",
      "Batería restante: 10.\n",
      "El theremin está sonando...\n",
      "Batería restante: 0.\n",
      "Batería recargada a 200.\n"
     ]
    }
   ],
   "source": [
    "class Theremin:\n",
    "    def __init__(self, marca, modelo):\n",
    "        self.marca = marca\n",
    "        self.modelo = modelo\n",
    "        self.peso = 500\n",
    "        self.potencia = 50\n",
    "        self.bateria = 200\n",
    "\n",
    "    def recargar_bateria(self):\n",
    "        self.bateria = 200\n",
    "        print(f\"Batería recargada a {self.bateria}.\")\n",
    "\n",
    "    def tocar(self):\n",
    "        if self.bateria > 0:\n",
    "            print(\"El theremin está sonando...\")\n",
    "            self.bateria -= 10\n",
    "            if self.bateria < 0:\n",
    "                self.bateria = 0\n",
    "            print(f\"Batería restante: {self.bateria}.\")\n",
    "        else:\n",
    "            print(\"No hay suficiente batería para tocar el theremin.\")\n",
    "\n",
    "# Crear un instrumento\n",
    "mi_theremin = Theremin(\"Moog\", \"Etherwave\")\n",
    "\n",
    "# Tocar el theremin mientras quede batería\n",
    "while mi_theremin.bateria > 0:\n",
    "    mi_theremin.tocar()\n",
    "\n",
    "# Recargar la batería\n",
    "mi_theremin.recargar_bateria()\n",
    "\n",
    "# No volver a tocar el theremin después de recargar la batería\n"
   ]
  },
  {
   "cell_type": "markdown",
   "id": "30f773b5-a6da-4446-b36b-722b2ee57730",
   "metadata": {},
   "source": [
    "#### Ejercicio 7. Extra (NO PUNTÚA).\n",
    "Una empresa usa dos listas  para guardar la información de sus empleados. Una lista guarda el nombre del empleado y la otra guarda su salario. Escribe un programa que cree esas dos listas originalmente vacías y que a través de un menú pueda hacer lo siguiente:\n",
    "    \n",
    "Inserta 1 para añadir un nuevo empleado y su salario\n",
    "\n",
    "Inserta 2 para imprimir los nombres y salarios de todos los empleados\n",
    "\n",
    "Inserta 3 para mostrar el número de empleados\n",
    "\n",
    "Inserta 4 para imprimir los nombres de los empleados con sueldos superiores a 400000\n",
    "\n",
    "Inserta 5 para subir un 5% los sueldos por debajo de 10000\n",
    "\n",
    "Inserta 6 para mostrar el total de todos los salarios\n",
    "\n",
    "Inserta 7 para salir del programa"
   ]
  },
  {
   "cell_type": "code",
   "execution_count": null,
   "id": "67858e27-b7f5-4e05-bc50-3fca698ad22a",
   "metadata": {},
   "outputs": [
    {
     "name": "stdout",
     "output_type": "stream",
     "text": [
      "\n",
      "Menú de Opciones:\n",
      "1. Añadir un nuevo empleado y su salario\n",
      "2. Imprimir los nombres y salarios de todos los empleados\n",
      "3. Mostrar el número de empleados\n",
      "4. Imprimir los nombres de los empleados con sueldos superiores a 400000\n",
      "5. Subir un 5% los sueldos por debajo de 10000\n",
      "6. Mostrar el total de todos los salarios\n",
      "7. Salir del programa\n",
      "\n",
      "Menú de Opciones:\n",
      "1. Añadir un nuevo empleado y su salario\n",
      "2. Imprimir los nombres y salarios de todos los empleados\n",
      "3. Mostrar el número de empleados\n",
      "4. Imprimir los nombres de los empleados con sueldos superiores a 400000\n",
      "5. Subir un 5% los sueldos por debajo de 10000\n",
      "6. Mostrar el total de todos los salarios\n",
      "7. Salir del programa\n"
     ]
    }
   ],
   "source": [
    "def menu():\n",
    "    print(\"\\nMenú de Opciones:\")\n",
    "    print(\"1. Añadir un nuevo empleado y su salario\")\n",
    "    print(\"2. Imprimir los nombres y salarios de todos los empleados\")\n",
    "    print(\"3. Mostrar el número de empleados\")\n",
    "    print(\"4. Imprimir los nombres de los empleados con sueldos superiores a 400000\")\n",
    "    print(\"5. Subir un 5% los sueldos por debajo de 10000\")\n",
    "    print(\"6. Mostrar el total de todos los salarios\")\n",
    "    print(\"7. Salir del programa\")\n",
    "    return int(input(\"Seleccione una opción: \"))\n",
    "\n",
    "# Listas para guardar información de los empleados\n",
    "nombres_empleados = []\n",
    "salarios_empleados = []\n",
    "\n",
    "while True:\n",
    "    opcion = menu()\n",
    "    \n",
    "    if opcion == 1:\n",
    "        # Añadir un nuevo empleado y su salario\n",
    "        nombre = input(\"Introduce el nombre del empleado: \")\n",
    "        salario = int(input(\"Introduce el salario del empleado: \"))\n",
    "        nombres_empleados.append(nombre)\n",
    "        salarios_empleados.append(salario)\n",
    "    \n",
    "    elif opcion == 2:\n",
    "        # Imprimir los nombres y salarios de todos los empleados\n",
    "        for nombre, salario in zip(nombres_empleados, salarios_empleados):\n",
    "            print(f\"Nombre: {nombre}, Salario: {salario}\")\n",
    "    \n",
    "    elif opcion == 3:\n",
    "        # Mostrar el número de empleados\n",
    "        print(f\"Número total de empleados: {len(nombres_empleados)}\")\n",
    "    \n",
    "    elif opcion == 4:\n",
    "        # Imprimir los nombres de los empleados con sueldos superiores a 400000\n",
    "        for nombre, salario in zip(nombres_empleados, salarios_empleados):\n",
    "            if salario > 400000:\n",
    "                print(f\"Nombre: {nombre}, Salario: {salario}\")\n",
    "    \n",
    "    elif opcion == 5:\n",
    "        # Subir un 5% los sueldos por debajo de 10000\n",
    "        for i in range(len(salarios_empleados)):\n",
    "            if salarios_empleados[i] < 10000:\n",
    "                salarios_empleados[i] = int(salarios_empleados[i] * 1.05)\n",
    "        print(\"Los sueldos por debajo de 10000 han sido aumentados en un 5%.\")\n",
    "    \n",
    "    elif opcion == 6:\n",
    "        # Mostrar el total de todos los salarios\n",
    "        total_salarios = sum(salarios_empleados)\n",
    "        print(f\"Total de todos los salarios: {total_salarios}\")\n",
    "    \n",
    "    elif opcion == 7:\n",
    "        # Salir del programa\n",
    "        print(\"Saliendo del programa...\")\n",
    "        break\n",
    "    \n",
    "    else:\n",
    "        print(\"Opción no válida, por favor seleccione una opción del 1 al 7.\")\n",
    "\n",
    "5\n"
   ]
  },
  {
   "cell_type": "markdown",
   "id": "e33a0e21-476e-4103-b889-a6b3e76b99f3",
   "metadata": {},
   "source": [
    "\n",
    "####  Ejercicio 8. EXTRA (NO PUNTÚA).\n",
    "\n",
    "Escribe un programa que __USE RECURSIVIDAD__ para decidir cuál es la película de Pixar favorita de un usuario.\n",
    "El programa preguntará al usuario cuál de 2 películas es su favorita, y con esa favorita se le volverá a preguntar entre esa y otra película cuál es su favorita...y así hasta que el usuario haya decidido de entre todas cuál es su favorita.\n",
    "\n",
    "Pista: si no quieres cambiar una lista, usa copy() y tendrás una copia que es otro objeto\n",
    "\n"
   ]
  },
  {
   "cell_type": "code",
   "execution_count": null,
   "id": "c9936fd4-6d29-4535-9f34-a6f289d18d8b",
   "metadata": {},
   "outputs": [
    {
     "name": "stdout",
     "output_type": "stream",
     "text": [
      "¿Cuál prefieres? (1) Toy Story o (2) Monsters, Inc.?\n",
      "Opción no válida, elige 1 o 2.\n",
      "¿Cuál prefieres? (1) Toy Story o (2) Monsters, Inc.?\n"
     ]
    }
   ],
   "source": [
    "def elegir_pelicula_favorita(peliculas):\n",
    "    # Caso base: Si solo queda una película, esa es la favorita\n",
    "    if len(peliculas) == 1:\n",
    "        return peliculas[0]\n",
    "    \n",
    "    # Si hay al menos dos películas, preguntar al usuario cuál prefiere entre las dos primeras\n",
    "    print(f\"¿Cuál prefieres? (1) {peliculas[0]} o (2) {peliculas[1]}?\")\n",
    "    eleccion = input(\"Introduce 1 o 2: \")\n",
    "    \n",
    "    # Eliminar la película que no ha sido elegida\n",
    "    if eleccion == \"1\":\n",
    "        nueva_lista = [peliculas[0]] + peliculas[2:]\n",
    "    elif eleccion == \"2\":\n",
    "        nueva_lista = [peliculas[1]] + peliculas[2:]\n",
    "    else:\n",
    "        print(\"Opción no válida, elige 1 o 2.\")\n",
    "        return elegir_pelicula_favorita(peliculas)  # Volver a preguntar\n",
    "    \n",
    "    # Llamada recursiva con la lista actualizada\n",
    "    return elegir_pelicula_favorita(nueva_lista)\n",
    "\n",
    "# Lista de películas de Pixar\n",
    "peliculas_pixar = [\"Toy Story\", \"Monsters, Inc.\", \"Buscando a Nemo\", \"Los Increíbles\", \"Cars\", \"Ratatouille\"]\n",
    "\n",
    "# Copiar la lista para evitar modificar la original\n",
    "peliculas_copia = peliculas_pixar.copy()\n",
    "\n",
    "# Iniciar el proceso de elección\n",
    "pelicula_favorita = elegir_pelicula_favorita(peliculas_copia)\n",
    "print(f\"Tu película favorita de Pixar es: {pelicula_favorita}\")\n",
    "5\n"
   ]
  },
  {
   "cell_type": "code",
   "execution_count": null,
   "id": "10a7b881",
   "metadata": {},
   "outputs": [],
   "source": [
    "# FIN DEL EXAMEN"
   ]
  }
 ],
 "metadata": {
  "kernelspec": {
   "display_name": "Python 3",
   "language": "python",
   "name": "python3"
  },
  "language_info": {
   "codemirror_mode": {
    "name": "ipython",
    "version": 3
   },
   "file_extension": ".py",
   "mimetype": "text/x-python",
   "name": "python",
   "nbconvert_exporter": "python",
   "pygments_lexer": "ipython3",
   "version": "3.12.3"
  }
 },
 "nbformat": 4,
 "nbformat_minor": 5
}
